{
 "cells": [
  {
   "cell_type": "markdown",
   "metadata": {},
   "source": [
    "# Network Analysis\n",
    "\n",
    "I conducted a network analysis at work to understand how internal connections can help a staff progress in his/her career. I used NetworkX package, and I think it is extremely useful. I am sharing here codes to create an interactive network graph, combining Plotly and NetworkX, and some insights to analyze a network. \n",
    "  \n",
    "There are 2 datasets provided: one contains names and team ID, and the other has a list of unique names with genders and departments. \n",
    "\n",
    "\n",
    "Disclaimer: this is not the real data."
   ]
  },
  {
   "cell_type": "code",
   "execution_count": 1,
   "metadata": {
    "collapsed": true
   },
   "outputs": [],
   "source": [
    "import plotly.plotly as py\n",
    "from plotly.graph_objs import *\n",
    "import networkx as nx\n",
    "import pandas as pd\n",
    "import numpy as np\n",
    "from networkx.algorithms import bipartite"
   ]
  },
  {
   "cell_type": "markdown",
   "metadata": {},
   "source": [
    "### Load and prepare data for NetworkX"
   ]
  },
  {
   "cell_type": "code",
   "execution_count": 2,
   "metadata": {
    "collapsed": true
   },
   "outputs": [],
   "source": [
    "team_data = pd.read_excel('Sample_team_dataset.xlsx')\n",
    "staff_attributes = pd.read_excel('Sample_team_member_detail.xlsx')\n",
    "\n",
    "staff_attributes = staff_attributes.set_index('Name')\n",
    "team_data['edges']=list(zip(team_data['Team ID'], team_data.Name))"
   ]
  },
  {
   "cell_type": "code",
   "execution_count": 3,
   "metadata": {},
   "outputs": [
    {
     "data": {
      "text/html": [
       "<div>\n",
       "<table border=\"1\" class=\"dataframe\">\n",
       "  <thead>\n",
       "    <tr style=\"text-align: right;\">\n",
       "      <th></th>\n",
       "      <th>Team ID</th>\n",
       "      <th>Name</th>\n",
       "      <th>edges</th>\n",
       "    </tr>\n",
       "  </thead>\n",
       "  <tbody>\n",
       "    <tr>\n",
       "      <th>0</th>\n",
       "      <td>0</td>\n",
       "      <td>Hayden</td>\n",
       "      <td>(0, Hayden)</td>\n",
       "    </tr>\n",
       "    <tr>\n",
       "      <th>1</th>\n",
       "      <td>0</td>\n",
       "      <td>Jack</td>\n",
       "      <td>(0, Jack)</td>\n",
       "    </tr>\n",
       "    <tr>\n",
       "      <th>2</th>\n",
       "      <td>0</td>\n",
       "      <td>Jaden</td>\n",
       "      <td>(0, Jaden)</td>\n",
       "    </tr>\n",
       "    <tr>\n",
       "      <th>3</th>\n",
       "      <td>0</td>\n",
       "      <td>Ella</td>\n",
       "      <td>(0, Ella)</td>\n",
       "    </tr>\n",
       "    <tr>\n",
       "      <th>4</th>\n",
       "      <td>0</td>\n",
       "      <td>Khloe</td>\n",
       "      <td>(0, Khloe)</td>\n",
       "    </tr>\n",
       "  </tbody>\n",
       "</table>\n",
       "</div>"
      ],
      "text/plain": [
       "   Team ID    Name        edges\n",
       "0        0  Hayden  (0, Hayden)\n",
       "1        0    Jack    (0, Jack)\n",
       "2        0   Jaden   (0, Jaden)\n",
       "3        0    Ella    (0, Ella)\n",
       "4        0   Khloe   (0, Khloe)"
      ]
     },
     "execution_count": 3,
     "metadata": {},
     "output_type": "execute_result"
    }
   ],
   "source": [
    "team_data.head(5)"
   ]
  },
  {
   "cell_type": "code",
   "execution_count": 4,
   "metadata": {},
   "outputs": [
    {
     "data": {
      "text/html": [
       "<div>\n",
       "<table border=\"1\" class=\"dataframe\">\n",
       "  <thead>\n",
       "    <tr style=\"text-align: right;\">\n",
       "      <th></th>\n",
       "      <th>Gender</th>\n",
       "      <th>Department</th>\n",
       "    </tr>\n",
       "    <tr>\n",
       "      <th>Name</th>\n",
       "      <th></th>\n",
       "      <th></th>\n",
       "    </tr>\n",
       "  </thead>\n",
       "  <tbody>\n",
       "    <tr>\n",
       "      <th>Mason</th>\n",
       "      <td>M</td>\n",
       "      <td>10</td>\n",
       "    </tr>\n",
       "    <tr>\n",
       "      <th>William</th>\n",
       "      <td>M</td>\n",
       "      <td>10</td>\n",
       "    </tr>\n",
       "    <tr>\n",
       "      <th>Olivia</th>\n",
       "      <td>F</td>\n",
       "      <td>10</td>\n",
       "    </tr>\n",
       "    <tr>\n",
       "      <th>Noah</th>\n",
       "      <td>M</td>\n",
       "      <td>4</td>\n",
       "    </tr>\n",
       "    <tr>\n",
       "      <th>Michael</th>\n",
       "      <td>M</td>\n",
       "      <td>10</td>\n",
       "    </tr>\n",
       "  </tbody>\n",
       "</table>\n",
       "</div>"
      ],
      "text/plain": [
       "        Gender  Department\n",
       "Name                      \n",
       "Mason        M          10\n",
       "William      M          10\n",
       "Olivia       F          10\n",
       "Noah         M           4\n",
       "Michael      M          10"
      ]
     },
     "execution_count": 4,
     "metadata": {},
     "output_type": "execute_result"
    }
   ],
   "source": [
    "staff_attributes.head(5)"
   ]
  },
  {
   "cell_type": "markdown",
   "metadata": {},
   "source": [
    "### Create network graph\n",
    "The assumption for connections is that all employees in the same team are connected. Therefore, a bipartite graph, consisting of one set of team id and one set of staff names, would fit this assumption. NetworkX already provides algorithms to create and analyze bipartite graphs.  "
   ]
  },
  {
   "cell_type": "code",
   "execution_count": 5,
   "metadata": {
    "collapsed": true
   },
   "outputs": [],
   "source": [
    "#Create lists of nodes and edges \n",
    "names = list(set(team_data['Name']))\n",
    "teamid = list(set(team_data['Team ID']))\n",
    "team_edges = list(team_data['edges'])"
   ]
  },
  {
   "cell_type": "code",
   "execution_count": 6,
   "metadata": {
    "collapsed": true
   },
   "outputs": [],
   "source": [
    "G = nx.Graph()\n",
    "G.add_nodes_from(names, bipartite=0)\n",
    "G.add_nodes_from(teamid, bipartite = 1)\n",
    "G.add_edges_from(team_edges)"
   ]
  },
  {
   "cell_type": "code",
   "execution_count": 7,
   "metadata": {},
   "outputs": [
    {
     "data": {
      "text/plain": [
       "True"
      ]
     },
     "execution_count": 7,
     "metadata": {},
     "output_type": "execute_result"
    }
   ],
   "source": [
    "#Check if G is bipartite\n",
    "bipartite.is_bipartite(G)"
   ]
  },
  {
   "cell_type": "markdown",
   "metadata": {},
   "source": [
    "Now I want to create a projected graph to analyze network of employees who have at least a team in common.  "
   ]
  },
  {
   "cell_type": "code",
   "execution_count": 8,
   "metadata": {
    "collapsed": true
   },
   "outputs": [],
   "source": [
    "P = bipartite.weighted_projected_graph(G, set(names))"
   ]
  },
  {
   "cell_type": "code",
   "execution_count": 9,
   "metadata": {
    "scrolled": true
   },
   "outputs": [
    {
     "name": "stdout",
     "output_type": "stream",
     "text": [
      "Number of nodes:  153 \n",
      "Number of edges:  871\n"
     ]
    }
   ],
   "source": [
    "print ('Number of nodes: ',P.number_of_nodes(),'\\nNumber of edges: ',P.number_of_edges())"
   ]
  },
  {
   "cell_type": "code",
   "execution_count": 10,
   "metadata": {},
   "outputs": [
    {
     "data": {
      "text/plain": [
       "True"
      ]
     },
     "execution_count": 10,
     "metadata": {},
     "output_type": "execute_result"
    }
   ],
   "source": [
    "#Check if graph P is connected\n",
    "nx.is_connected(P)"
   ]
  },
  {
   "cell_type": "markdown",
   "metadata": {},
   "source": [
    "You can create a quick network graph using NetworkX. However, with a large number of nodes and edges (as in my case at work), I found graphs generated by NetworkX not intuitive, so I decided to combine Plotly and NetworkX to create an interactive chart with more vibrant colors.  "
   ]
  },
  {
   "cell_type": "code",
   "execution_count": 11,
   "metadata": {
    "collapsed": true
   },
   "outputs": [],
   "source": [
    "def graph_network(G, nodes_attr_df, title):    \n",
    "    pos = nx.spring_layout(G)\n",
    "    for n in G:\n",
    "        G.node[n]['pos']=pos[n]\n",
    "        G.node[n]['gender']=nodes_attr_df.loc[n, 'Gender']\n",
    "        \n",
    "    \n",
    "    #Add edges as disconnected lines in a single trace and nodes as a scatter trace\n",
    "    edge_trace = Scatter(\n",
    "        x=[],\n",
    "        y=[],\n",
    "        line=Line(width=0.1,color='#888'),\n",
    "        hoverinfo='none',\n",
    "        mode='lines')\n",
    "\n",
    "    for edge in G.edges():\n",
    "        x0, y0 = G.node[edge[0]]['pos']\n",
    "        x1, y1 = G.node[edge[1]]['pos']\n",
    "        edge_trace['x'] += [x0, x1, None]\n",
    "        edge_trace['y'] += [y0, y1, None]\n",
    "    \n",
    "    #create different colors for a categorical attribute of nodes. Here I used gender as an example\n",
    "    node_trace1 = Scatter(\n",
    "    x=[],\n",
    "    y=[],\n",
    "    text=[],\n",
    "    mode='markers',\n",
    "    hoverinfo='text',\n",
    "    marker=Marker(\n",
    "        showscale=True,\n",
    "            # colorscale options\n",
    "            # 'Greys' | 'Greens' | 'Bluered' | 'Hot' | 'Picnic' | 'Portland' |\n",
    "            # Jet' | 'RdBu' | 'Blackbody' | 'Earth' | 'Electric' | 'YIOrRd' | 'YIGnBu'\n",
    "        colorscale='YIGnBu',\n",
    "        reversescale=True,\n",
    "        color=[],\n",
    "        size=10,\n",
    "        colorbar=dict(\n",
    "            thickness=15,\n",
    "            title='Node Connections (Male scale)',\n",
    "            xanchor='left',\n",
    "            titleside='right'\n",
    "            ),\n",
    "        line=dict(width=2)))\n",
    "\n",
    "    node_trace2 = Scatter(\n",
    "        x=[],\n",
    "        y=[],\n",
    "        text=[],\n",
    "        mode='markers',\n",
    "        hoverinfo='text',\n",
    "        marker=Marker(\n",
    "            showscale=True,\n",
    "                # colorscale options\n",
    "                # 'Greys' | 'Greens' | 'Bluered' | 'Hot' | 'Picnic' | 'Portland' |\n",
    "                # Jet' | 'RdBu' | 'Blackbody' | 'Earth' | 'Electric' | 'YIOrRd' | 'YIGnBu'\n",
    "            colorscale='YIOrRd',\n",
    "            reversescale=True,\n",
    "            color=[],\n",
    "            size=10,\n",
    "            colorbar=dict(\n",
    "                thickness=15,\n",
    "                title='Node Connections (Female scale)',\n",
    "                x=-0.05,\n",
    "                titleside='right'\n",
    "                ),\n",
    "            line=dict(width=2)))\n",
    "\n",
    "    for node in G.nodes():\n",
    "        if G.node[node]['gender']=='M':\n",
    "            x, y = G.node[node]['pos']\n",
    "            node_trace1['x'].append(x)\n",
    "            node_trace1['y'].append(y)\n",
    "        else:\n",
    "            x, y = G.node[node]['pos']\n",
    "            node_trace2['x'].append(x)\n",
    "            node_trace2['y'].append(y)\n",
    "    \n",
    "    #Color node points by the number of connections.\n",
    "    for node, adjacencies in G.adjacency_iter():\n",
    "        if G.node[node]['gender']=='M':\n",
    "            node_trace1['marker']['color'].append(len(adjacencies))\n",
    "            node_info = str(node) + ' - # of connections: '+str(len(adjacencies))\n",
    "            node_trace1['text'].append(node_info)\n",
    "        else:\n",
    "            node_trace2['marker']['color'].append(len(adjacencies))\n",
    "            node_info = str(node)+' - # of connections: '+str(len(adjacencies))\n",
    "            node_trace2['text'].append(node_info)\n",
    "        \n",
    "    #Create Network Graph\n",
    "    fig = Figure(data=Data([edge_trace, node_trace1, node_trace2]),\n",
    "                 layout=Layout(\n",
    "                    title='<br>'+title,\n",
    "                    titlefont=dict(size=16),\n",
    "                    showlegend=False,\n",
    "                    hovermode='closest',\n",
    "                    margin=dict(b=20,l=5,r=5,t=40),\n",
    "                    xaxis=XAxis(showgrid=False, zeroline=False, showticklabels=False),\n",
    "                    yaxis=YAxis(showgrid=False, zeroline=False, showticklabels=False)))\n",
    "\n",
    "    return fig"
   ]
  },
  {
   "cell_type": "code",
   "execution_count": 12,
   "metadata": {},
   "outputs": [
    {
     "data": {
      "text/html": [
       "<iframe id=\"igraph\" scrolling=\"no\" style=\"border:none;\" seamless=\"seamless\" src=\"https://plot.ly/~hailey_n5/148.embed\" height=\"525px\" width=\"100%\"></iframe>"
      ],
      "text/plain": [
       "<plotly.tools.PlotlyDisplay object>"
      ]
     },
     "execution_count": 12,
     "metadata": {},
     "output_type": "execute_result"
    }
   ],
   "source": [
    "title = 'Network Graph'\n",
    "fig = graph_network(P, staff_attributes,title )\n",
    "py.iplot(fig)"
   ]
  },
  {
   "cell_type": "markdown",
   "metadata": {},
   "source": [
    "### Analyze the staff network\n",
    "\n",
    "##### First, let's examine some nodes' attributes and edges' attributes"
   ]
  },
  {
   "cell_type": "code",
   "execution_count": 13,
   "metadata": {
    "collapsed": true
   },
   "outputs": [],
   "source": [
    "#Load nodes' attributes from 'Sample_team_member_detail.xlsx' (staff_attributes dataframe) into graph P\n",
    "for n in P:\n",
    "    P.node[n]['department']=staff_attributes.loc[n, 'Department']\n",
    "    P.node[n]['gender']=staff_attributes.loc[n, 'Gender']"
   ]
  },
  {
   "cell_type": "code",
   "execution_count": 15,
   "metadata": {},
   "outputs": [
    {
     "data": {
      "text/plain": [
       "[('Xavier',\n",
       "  {'bipartite': 0,\n",
       "   'department': 4,\n",
       "   'gender': 'M',\n",
       "   'pos': array([ 0.08312924,  0.56553303])}),\n",
       " ('Piper',\n",
       "  {'bipartite': 0,\n",
       "   'department': 9,\n",
       "   'gender': 'F',\n",
       "   'pos': array([ 0.65047837,  0.6534047 ])}),\n",
       " ('Riley',\n",
       "  {'bipartite': 0,\n",
       "   'department': 7,\n",
       "   'gender': 'M',\n",
       "   'pos': array([ 0.92452861,  0.60053606])}),\n",
       " ('William',\n",
       "  {'bipartite': 0,\n",
       "   'department': 10,\n",
       "   'gender': 'M',\n",
       "   'pos': array([ 0.58959835,  0.9729337 ])}),\n",
       " ('Sydney',\n",
       "  {'bipartite': 0,\n",
       "   'department': 1,\n",
       "   'gender': 'F',\n",
       "   'pos': array([ 0.05299772,  0.78676572])})]"
      ]
     },
     "execution_count": 15,
     "metadata": {},
     "output_type": "execute_result"
    }
   ],
   "source": [
    "P.nodes(data=True)[:5]"
   ]
  },
  {
   "cell_type": "code",
   "execution_count": 16,
   "metadata": {},
   "outputs": [
    {
     "data": {
      "text/plain": [
       "[('Xavier', 'Oliver', {'weight': 1}),\n",
       " ('Xavier', 'Jace', {'weight': 1}),\n",
       " ('Xavier', 'Jocelyn', {'weight': 1}),\n",
       " ('Xavier', 'Dominic', {'weight': 1}),\n",
       " ('Xavier', 'Ryan', {'weight': 1}),\n",
       " ('Xavier', 'Bentley', {'weight': 1}),\n",
       " ('Xavier', 'Stella', {'weight': 1}),\n",
       " ('Xavier', 'Colton', {'weight': 1}),\n",
       " ('Xavier', 'Kevin', {'weight': 1}),\n",
       " ('Xavier', 'Charles', {'weight': 1})]"
      ]
     },
     "execution_count": 16,
     "metadata": {},
     "output_type": "execute_result"
    }
   ],
   "source": [
    "P.edges(data=True)[:10] #weight is the number of teams these two nodes have in common"
   ]
  },
  {
   "cell_type": "markdown",
   "metadata": {},
   "source": [
    "##### Next, I would like to create some node based features that I found useful to understand a network and to fit a model\n",
    "\n",
    "1.Local clustering coefficient: \n",
    "\n",
    "\n",
    "    Local clustering coefficient of node A = \n",
    "    (# of pairs of A's friends who are friends) / (# of pairs of A's friends)\n",
    "\n",
    "   \n",
    "2.Degree centrality:\n",
    "\n",
    "    This measure focuses on the number of connections\n",
    "    \n",
    "    degCent(u) = (degree of node u) / (# of nodes in the network - 1)\n",
    "    \n",
    "    \n",
    "3.Closeness centrality:\n",
    "\n",
    "    This measure focuses on the distance between a node and other nodes\n",
    "    \n",
    "    CloseCent(u) = \n",
    "    (# of nodes in the network - 1) / (Sum of lengths of shortest path from u to other nodes)\n",
    "   \n",
    "$$C(u) = \\frac{n - 1}{\\sum_{v=1}^{n-1} d(v, u)},$$\n",
    "  \n",
    "  \n",
    "4.Betweenness centrality:\n",
    "\n",
    "    This measure emphasizes nodes that act as bridges between other nodes\n",
    "    \n",
    "    BtwCent(u) = \n",
    "    Sum of ((# of shortest paths between nodes s & t that pass through node u) / \n",
    "             (# of shortest paths between nodes s & t))\n",
    "    s, t are in the set of nodes in the network\n",
    "    \n",
    "$$c_B(u) =\\sum_{s,t \\in V} \\frac{\\sigma(s, t|u)}{\\sigma(s, t)}$$\n",
    "    \n",
    "    For graphs that have many nodes, I would recommend normalizing this measure by dividing it by:\n",
    "    (1/2)*(# of nodes in the network - 1)*(# of nodes in the network - 2)  for undirected graphs\n",
    "    (# of nodes in the network - 1)*(# of nodes in the network - 2) for directed graphs"
   ]
  },
  {
   "cell_type": "code",
   "execution_count": 17,
   "metadata": {
    "collapsed": true
   },
   "outputs": [],
   "source": [
    "#Local clustering coefficient:\n",
    "staff_attributes['Clustering'] = pd.Series(nx.clustering(P))\n",
    "\n",
    "#Degree centrality:\n",
    "staff_attributes['DegCent'] = pd.Series(nx.degree_centrality(P))\n",
    "\n",
    "#Closeness centrality:\n",
    "staff_attributes['CloseCent'] = pd.Series(nx.closeness_centrality(P))\n",
    "\n",
    "#Betweenness centrality:\n",
    "staff_attributes['BtwCent'] = pd.Series(nx.betweenness_centrality(P,normalized = True, endpoints = False))"
   ]
  },
  {
   "cell_type": "code",
   "execution_count": 18,
   "metadata": {},
   "outputs": [
    {
     "data": {
      "text/html": [
       "<div>\n",
       "<table border=\"1\" class=\"dataframe\">\n",
       "  <thead>\n",
       "    <tr style=\"text-align: right;\">\n",
       "      <th></th>\n",
       "      <th>Gender</th>\n",
       "      <th>Department</th>\n",
       "      <th>Clustering</th>\n",
       "      <th>DegCent</th>\n",
       "      <th>CloseCent</th>\n",
       "      <th>BtwCent</th>\n",
       "    </tr>\n",
       "    <tr>\n",
       "      <th>Name</th>\n",
       "      <th></th>\n",
       "      <th></th>\n",
       "      <th></th>\n",
       "      <th></th>\n",
       "      <th></th>\n",
       "      <th></th>\n",
       "    </tr>\n",
       "  </thead>\n",
       "  <tbody>\n",
       "    <tr>\n",
       "      <th>Mason</th>\n",
       "      <td>M</td>\n",
       "      <td>10</td>\n",
       "      <td>1.000000</td>\n",
       "      <td>0.026316</td>\n",
       "      <td>0.278388</td>\n",
       "      <td>0.000000</td>\n",
       "    </tr>\n",
       "    <tr>\n",
       "      <th>William</th>\n",
       "      <td>M</td>\n",
       "      <td>10</td>\n",
       "      <td>1.000000</td>\n",
       "      <td>0.026316</td>\n",
       "      <td>0.278388</td>\n",
       "      <td>0.000000</td>\n",
       "    </tr>\n",
       "    <tr>\n",
       "      <th>Olivia</th>\n",
       "      <td>F</td>\n",
       "      <td>10</td>\n",
       "      <td>1.000000</td>\n",
       "      <td>0.026316</td>\n",
       "      <td>0.278388</td>\n",
       "      <td>0.000000</td>\n",
       "    </tr>\n",
       "    <tr>\n",
       "      <th>Noah</th>\n",
       "      <td>M</td>\n",
       "      <td>4</td>\n",
       "      <td>1.000000</td>\n",
       "      <td>0.026316</td>\n",
       "      <td>0.278388</td>\n",
       "      <td>0.000000</td>\n",
       "    </tr>\n",
       "    <tr>\n",
       "      <th>Michael</th>\n",
       "      <td>M</td>\n",
       "      <td>10</td>\n",
       "      <td>1.000000</td>\n",
       "      <td>0.026316</td>\n",
       "      <td>0.177156</td>\n",
       "      <td>0.000000</td>\n",
       "    </tr>\n",
       "    <tr>\n",
       "      <th>Ethan</th>\n",
       "      <td>M</td>\n",
       "      <td>10</td>\n",
       "      <td>0.733333</td>\n",
       "      <td>0.039474</td>\n",
       "      <td>0.196382</td>\n",
       "      <td>0.004830</td>\n",
       "    </tr>\n",
       "    <tr>\n",
       "      <th>Alexander</th>\n",
       "      <td>M</td>\n",
       "      <td>10</td>\n",
       "      <td>0.733333</td>\n",
       "      <td>0.039474</td>\n",
       "      <td>0.196382</td>\n",
       "      <td>0.004830</td>\n",
       "    </tr>\n",
       "    <tr>\n",
       "      <th>Aiden</th>\n",
       "      <td>M</td>\n",
       "      <td>10</td>\n",
       "      <td>0.555556</td>\n",
       "      <td>0.059211</td>\n",
       "      <td>0.214085</td>\n",
       "      <td>0.018909</td>\n",
       "    </tr>\n",
       "    <tr>\n",
       "      <th>Chloe</th>\n",
       "      <td>F</td>\n",
       "      <td>10</td>\n",
       "      <td>1.000000</td>\n",
       "      <td>0.026316</td>\n",
       "      <td>0.177156</td>\n",
       "      <td>0.000000</td>\n",
       "    </tr>\n",
       "    <tr>\n",
       "      <th>Anthony</th>\n",
       "      <td>M</td>\n",
       "      <td>10</td>\n",
       "      <td>0.714286</td>\n",
       "      <td>0.046053</td>\n",
       "      <td>0.213483</td>\n",
       "      <td>0.002777</td>\n",
       "    </tr>\n",
       "  </tbody>\n",
       "</table>\n",
       "</div>"
      ],
      "text/plain": [
       "          Gender  Department  Clustering   DegCent  CloseCent   BtwCent\n",
       "Name                                                                   \n",
       "Mason          M          10    1.000000  0.026316   0.278388  0.000000\n",
       "William        M          10    1.000000  0.026316   0.278388  0.000000\n",
       "Olivia         F          10    1.000000  0.026316   0.278388  0.000000\n",
       "Noah           M           4    1.000000  0.026316   0.278388  0.000000\n",
       "Michael        M          10    1.000000  0.026316   0.177156  0.000000\n",
       "Ethan          M          10    0.733333  0.039474   0.196382  0.004830\n",
       "Alexander      M          10    0.733333  0.039474   0.196382  0.004830\n",
       "Aiden          M          10    0.555556  0.059211   0.214085  0.018909\n",
       "Chloe          F          10    1.000000  0.026316   0.177156  0.000000\n",
       "Anthony        M          10    0.714286  0.046053   0.213483  0.002777"
      ]
     },
     "execution_count": 18,
     "metadata": {},
     "output_type": "execute_result"
    }
   ],
   "source": [
    "staff_attributes.head(10)"
   ]
  },
  {
   "cell_type": "markdown",
   "metadata": {},
   "source": [
    "##### Edge based features are important in predicting future connections of non-existent edges in the graph\n",
    "\n",
    "The most common measures for edges are common neighbors and preferential attachment. When predicting future connections of currently non-existent edges, I prefer adding community common neighbors measure with an assumption that employees in the same department (community) will be more likely to form a connection in the future than those in different departments.\n",
    "\n",
    "1.Common neighbors:\n",
    "    \n",
    "    = Number of common neighbors between 2 nodes\n",
    "    \n",
    "    With a large number of nodes, I would want to normalize this measure by the total number of neighbors \n",
    "    (Jaccard Coefficient)\n",
    "\n",
    "2.Preferential attachment:\n",
    "    \n",
    "    = Product of the nodes' degrees\n",
    "    \n",
    "    This is based on the preferential attachment model where nodes with high degrees get more neighbors.\n",
    "\n",
    "\n",
    "3.Community common neighbors\n",
    "    \n",
    "    = Number of common neighbors of nodes u and v \n",
    "    + bonus 1 for each common neighbor belonging to the same community as u and v (f(w))\n",
    "$$|N(u) \\cap N(v)| + \\sum_{w \\in N(u) \\cap N(v)} f(w)$$\n",
    "    \n",
    "        N(u) = set of neighbors of u"
   ]
  },
  {
   "cell_type": "code",
   "execution_count": 19,
   "metadata": {
    "collapsed": true
   },
   "outputs": [],
   "source": [
    "#Initialize a dataframe for edges with edges as index:\n",
    "edges_attributes = pd.DataFrame(index=P.edges())\n",
    "\n",
    "#Add weight to the dataframe:\n",
    "edges_attributes['Weight'] = pd.Series(nx.get_edge_attributes(P, 'weight'))\n",
    "\n",
    "#Compute common neighbors measure:\n",
    "edges_attributes['Comm_neigh'] = edges_attributes.index.map(lambda i: len(list(nx.common_neighbors(P, i[0], i[1]))))\n",
    "\n",
    "#Compute Jaccard coefficient:\n",
    "edges_attributes['Jacc_coef'] = [i[2] for i in nx.jaccard_coefficient(P, edges_attributes.index)]\n",
    "\n",
    "#Compute preferential attachment measure:\n",
    "edges_attributes['Pref_attachment'] = [i[2] for i in nx.preferential_attachment(P, edges_attributes.index)]\n"
   ]
  },
  {
   "cell_type": "code",
   "execution_count": 20,
   "metadata": {},
   "outputs": [
    {
     "data": {
      "text/html": [
       "<div>\n",
       "<table border=\"1\" class=\"dataframe\">\n",
       "  <thead>\n",
       "    <tr style=\"text-align: right;\">\n",
       "      <th></th>\n",
       "      <th>Weight</th>\n",
       "      <th>Comm_neigh</th>\n",
       "      <th>Jacc_coef</th>\n",
       "      <th>Pref_attachment</th>\n",
       "    </tr>\n",
       "  </thead>\n",
       "  <tbody>\n",
       "    <tr>\n",
       "      <th>(Xavier, Oliver)</th>\n",
       "      <td>1</td>\n",
       "      <td>9</td>\n",
       "      <td>0.818182</td>\n",
       "      <td>100</td>\n",
       "    </tr>\n",
       "    <tr>\n",
       "      <th>(Xavier, Jace)</th>\n",
       "      <td>1</td>\n",
       "      <td>9</td>\n",
       "      <td>0.450000</td>\n",
       "      <td>190</td>\n",
       "    </tr>\n",
       "    <tr>\n",
       "      <th>(Xavier, Jocelyn)</th>\n",
       "      <td>1</td>\n",
       "      <td>9</td>\n",
       "      <td>0.529412</td>\n",
       "      <td>160</td>\n",
       "    </tr>\n",
       "    <tr>\n",
       "      <th>(Xavier, Dominic)</th>\n",
       "      <td>1</td>\n",
       "      <td>9</td>\n",
       "      <td>0.391304</td>\n",
       "      <td>220</td>\n",
       "    </tr>\n",
       "    <tr>\n",
       "      <th>(Xavier, Ryan)</th>\n",
       "      <td>1</td>\n",
       "      <td>9</td>\n",
       "      <td>0.391304</td>\n",
       "      <td>220</td>\n",
       "    </tr>\n",
       "  </tbody>\n",
       "</table>\n",
       "</div>"
      ],
      "text/plain": [
       "                   Weight  Comm_neigh  Jacc_coef  Pref_attachment\n",
       "(Xavier, Oliver)        1           9   0.818182              100\n",
       "(Xavier, Jace)          1           9   0.450000              190\n",
       "(Xavier, Jocelyn)       1           9   0.529412              160\n",
       "(Xavier, Dominic)       1           9   0.391304              220\n",
       "(Xavier, Ryan)          1           9   0.391304              220"
      ]
     },
     "execution_count": 20,
     "metadata": {},
     "output_type": "execute_result"
    }
   ],
   "source": [
    "edges_attributes.head()"
   ]
  },
  {
   "cell_type": "markdown",
   "metadata": {},
   "source": [
    "###### Compute features for non-existent edges in the network"
   ]
  },
  {
   "cell_type": "code",
   "execution_count": 21,
   "metadata": {},
   "outputs": [
    {
     "data": {
      "text/plain": [
       "10757"
      ]
     },
     "execution_count": 21,
     "metadata": {},
     "output_type": "execute_result"
    }
   ],
   "source": [
    "#Initialize a dataframe for nonedges with nonedges as index:\n",
    "nonedges_attr = pd.DataFrame(index=nx.non_edges(P))\n",
    "\n",
    "len(nonedges_attr)"
   ]
  },
  {
   "cell_type": "code",
   "execution_count": 22,
   "metadata": {
    "collapsed": true
   },
   "outputs": [],
   "source": [
    "#Compute community common neighbor measure, using department as community:\n",
    "nonedges_attr['community_neighbors']=[i[2] for i in nx.cn_soundarajan_hopcroft(P, \n",
    "                                                ebunch = nonedges_attr.index,\n",
    "                                                community = 'department')]\n",
    "\n",
    "#Compute common neighbors measure:\n",
    "nonedges_attr['Comm_neigh'] = nonedges_attr.index.map(lambda i: len(list(nx.common_neighbors(P, i[0], i[1]))))\n",
    "\n",
    "#Compute Jaccard coefficient:\n",
    "nonedges_attr['Jacc_coef'] = [i[2] for i in nx.jaccard_coefficient(P, nonedges_attr.index)]\n",
    "\n",
    "#Compute preferential attachment measure:\n",
    "nonedges_attr['Pref_attachment'] = [i[2] for i in nx.preferential_attachment(P, nonedges_attr.index)]"
   ]
  },
  {
   "cell_type": "code",
   "execution_count": 23,
   "metadata": {},
   "outputs": [
    {
     "data": {
      "text/html": [
       "<div>\n",
       "<table border=\"1\" class=\"dataframe\">\n",
       "  <thead>\n",
       "    <tr style=\"text-align: right;\">\n",
       "      <th></th>\n",
       "      <th>community_neighbors</th>\n",
       "      <th>Comm_neigh</th>\n",
       "      <th>Jacc_coef</th>\n",
       "      <th>Pref_attachment</th>\n",
       "    </tr>\n",
       "  </thead>\n",
       "  <tbody>\n",
       "    <tr>\n",
       "      <th>(Piper, Riley)</th>\n",
       "      <td>0</td>\n",
       "      <td>0</td>\n",
       "      <td>0.000000</td>\n",
       "      <td>133</td>\n",
       "    </tr>\n",
       "    <tr>\n",
       "      <th>(Piper, William)</th>\n",
       "      <td>1</td>\n",
       "      <td>1</td>\n",
       "      <td>0.100000</td>\n",
       "      <td>28</td>\n",
       "    </tr>\n",
       "    <tr>\n",
       "      <th>(Piper, Sydney)</th>\n",
       "      <td>0</td>\n",
       "      <td>0</td>\n",
       "      <td>0.000000</td>\n",
       "      <td>56</td>\n",
       "    </tr>\n",
       "    <tr>\n",
       "      <th>(Piper, Juan)</th>\n",
       "      <td>0</td>\n",
       "      <td>0</td>\n",
       "      <td>0.000000</td>\n",
       "      <td>84</td>\n",
       "    </tr>\n",
       "    <tr>\n",
       "      <th>(Piper, Braxton)</th>\n",
       "      <td>1</td>\n",
       "      <td>1</td>\n",
       "      <td>0.083333</td>\n",
       "      <td>42</td>\n",
       "    </tr>\n",
       "    <tr>\n",
       "      <th>(Piper, Brian)</th>\n",
       "      <td>0</td>\n",
       "      <td>0</td>\n",
       "      <td>0.000000</td>\n",
       "      <td>84</td>\n",
       "    </tr>\n",
       "    <tr>\n",
       "      <th>(Piper, Ivan)</th>\n",
       "      <td>0</td>\n",
       "      <td>0</td>\n",
       "      <td>0.000000</td>\n",
       "      <td>161</td>\n",
       "    </tr>\n",
       "    <tr>\n",
       "      <th>(Piper, Anthony)</th>\n",
       "      <td>0</td>\n",
       "      <td>0</td>\n",
       "      <td>0.000000</td>\n",
       "      <td>49</td>\n",
       "    </tr>\n",
       "    <tr>\n",
       "      <th>(Piper, Brandon)</th>\n",
       "      <td>0</td>\n",
       "      <td>0</td>\n",
       "      <td>0.000000</td>\n",
       "      <td>42</td>\n",
       "    </tr>\n",
       "    <tr>\n",
       "      <th>(Piper, Camila)</th>\n",
       "      <td>0</td>\n",
       "      <td>0</td>\n",
       "      <td>0.000000</td>\n",
       "      <td>28</td>\n",
       "    </tr>\n",
       "  </tbody>\n",
       "</table>\n",
       "</div>"
      ],
      "text/plain": [
       "                  community_neighbors  Comm_neigh  Jacc_coef  Pref_attachment\n",
       "(Piper, Riley)                      0           0   0.000000              133\n",
       "(Piper, William)                    1           1   0.100000               28\n",
       "(Piper, Sydney)                     0           0   0.000000               56\n",
       "(Piper, Juan)                       0           0   0.000000               84\n",
       "(Piper, Braxton)                    1           1   0.083333               42\n",
       "(Piper, Brian)                      0           0   0.000000               84\n",
       "(Piper, Ivan)                       0           0   0.000000              161\n",
       "(Piper, Anthony)                    0           0   0.000000               49\n",
       "(Piper, Brandon)                    0           0   0.000000               42\n",
       "(Piper, Camila)                     0           0   0.000000               28"
      ]
     },
     "execution_count": 23,
     "metadata": {},
     "output_type": "execute_result"
    }
   ],
   "source": [
    "nonedges_attr.head(10)"
   ]
  },
  {
   "cell_type": "markdown",
   "metadata": {},
   "source": [
    "The features above can be selected to fit a model to predict future connections. I have been successful applying Gaussian Naive Bayes algorithm for classification. However, which classifier to use might depend on the structure and complexity of a network.   \n",
    "\n",
    "\n",
    "\n",
    "Reference: https://networkx.github.io/documentation/networkx-1.10/index.html"
   ]
  }
 ],
 "metadata": {
  "anaconda-cloud": {},
  "kernelspec": {
   "display_name": "Python [conda root]",
   "language": "python",
   "name": "conda-root-py"
  },
  "language_info": {
   "codemirror_mode": {
    "name": "ipython",
    "version": 3
   },
   "file_extension": ".py",
   "mimetype": "text/x-python",
   "name": "python",
   "nbconvert_exporter": "python",
   "pygments_lexer": "ipython3",
   "version": "3.5.2"
  }
 },
 "nbformat": 4,
 "nbformat_minor": 1
}
